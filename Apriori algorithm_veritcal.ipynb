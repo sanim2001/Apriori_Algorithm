{
  "cells": [
    {
      "cell_type": "code",
      "execution_count": null,
      "metadata": {
        "id": "KDPw9YJT1Kyy",
        "colab": {
          "base_uri": "https://localhost:8080/"
        },
        "outputId": "b97b904f-7307-4d70-80c9-4da42dc589ff"
      },
      "outputs": [
        {
          "output_type": "stream",
          "name": "stdout",
          "text": [
            "Drive already mounted at /content/drive; to attempt to forcibly remount, call drive.mount(\"/content/drive\", force_remount=True).\n"
          ]
        }
      ],
      "source": [
        "from google.colab import drive\n",
        "drive.mount('/content/drive')"
      ]
    },
    {
      "cell_type": "code",
      "execution_count": null,
      "metadata": {
        "colab": {
          "base_uri": "https://localhost:8080/"
        },
        "id": "STiyNur21ZLI",
        "outputId": "8a8c20ec-ffe8-4f67-b485-5359eb8a2e4b"
      },
      "outputs": [
        {
          "output_type": "stream",
          "name": "stdout",
          "text": [
            "/content/drive/My Drive/python\n"
          ]
        }
      ],
      "source": [
        "%cd /content/drive/My Drive/python"
      ]
    },
    {
      "cell_type": "code",
      "execution_count": null,
      "metadata": {
        "id": "0OCDng6n10-5"
      },
      "outputs": [],
      "source": [
        "from os import truncate\n",
        "import itertools\n",
        "\n",
        "class pattern:\n",
        "  def __init__(self,iset,tset):\n",
        "    self.item = iset.copy()\n",
        "    self.trasactionset = tset.copy()\n",
        "\n",
        "items = []\n",
        "with open(\"mushroom.txt\", \"r\") as f:\n",
        "    for line in f:\n",
        "      line= f.readline()\n",
        "\n",
        "      if not line:\n",
        "          break\n",
        "      token=line.split()\n",
        "      token.sort()\n",
        "      for i in range(len(token)):\n",
        "        item = token[i]\n",
        "        if item not in items:\n",
        "            items.append(item)\n",
        "items.sort()\n",
        "\n",
        "f2 = open(\"vertical_mushroom.txt\", \"w\")\n",
        "for item in items:\n",
        "    tr = 0\n",
        "    with open(\"mushroom.txt\", \"r\") as f:\n",
        "      for line in f:\n",
        "          line= f.readline()\n",
        "\n",
        "          if not line:\n",
        "              break\n",
        "          tr += 1\n",
        "\n",
        "          token=line.split()\n",
        "          if item in token:\n",
        "              f2.write(str(tr)+' ')\n",
        "    f2.write('\\n')\n",
        "f2.close()\n",
        "\n",
        "\n",
        "C = [[],[]]\n",
        "L = [[],[]]\n",
        "cnt = 0\n",
        "\n",
        "with open(\"vertical_mushroom.txt\", \"r\") as f:\n",
        "    for line in f:\n",
        "      line= f.readline()\n",
        "\n",
        "      if not line:\n",
        "          break\n",
        "      token=line.split()\n",
        "      token.sort()\n",
        "      x = pattern([items[cnt]], token)\n",
        "      C[0].append(x)\n",
        "      cnt += 1\n",
        "f.close()"
      ]
    },
    {
      "cell_type": "code",
      "execution_count": null,
      "metadata": {
        "colab": {
          "base_uri": "https://localhost:8080/"
        },
        "id": "bWyb7l5e2SbY",
        "outputId": "37837962-123c-48ed-84a6-091188f17cf5"
      },
      "outputs": [
        {
          "output_type": "stream",
          "name": "stdout",
          "text": [
            "4062 4\n"
          ]
        }
      ],
      "source": [
        "th = (80/100)*tr\n",
        "for i in range(0,len(C[0])):\n",
        "    if len(C[0][i].trasactionset)>=th:\n",
        "        L[0].append(C[0][i])\n",
        "\n",
        "print(tr, len(L[0]))\n"
      ]
    },
    {
      "cell_type": "code",
      "execution_count": null,
      "metadata": {
        "id": "xFCWKFGFSKN6",
        "colab": {
          "base_uri": "https://localhost:8080/"
        },
        "outputId": "f85dca05-4204-43f8-a7b3-dd691112e797"
      },
      "outputs": [
        {
          "output_type": "stream",
          "name": "stdout",
          "text": [
            "4\n"
          ]
        }
      ],
      "source": [
        "print(len(L[0]))\n",
        "c1= 1\n",
        "while True:\n",
        "    for i in range(0, len(L[c1-1]) - 1):\n",
        "        p = []\n",
        "        for j in range(i + 1, len(L[c1-1])):\n",
        "            x = L[c1-1][i].item\n",
        "            y = L[c1-1][j].item\n",
        "            t1=0\n",
        "            for k in range(0,c1 - 1):\n",
        "                if x[k] == y[k]:\n",
        "                    p.append(x[k])\n",
        "                    t1+=1\n",
        "            if t1!=c1-1:\n",
        "                break\n",
        "            p.append(x[c1 - 1])\n",
        "            p.append(y[c1 - 1])\n",
        "\n",
        "            a = list(itertools.combinations(p, c1))\n",
        "            a1 = 0\n",
        "            for b in range(len(a)):\n",
        "                for c in range(len(L[c1-1])):\n",
        "                    if list(a[b]) == L[c1-1][c].item:\n",
        "                        a1 += 1\n",
        "                        break\n",
        "\n",
        "            if a1 == len(a):\n",
        "                interS = list(set(L[c1-1][i].trasactionset) & set(L[c1-1][j].trasactionset))\n",
        "                C[c1].append(pattern(p, interS))\n",
        "\n",
        "            p.clear()\n",
        "\n",
        "\n",
        "    if len(C[c1]) == 0:\n",
        "        break\n",
        "\n",
        "    L[c1] = [item for item in C[c1] if len(item.trasactionset) >= th]\n",
        "\n",
        "    if len(L[c1]) == 0:\n",
        "        break\n",
        "    else:\n",
        "        C.append([])\n",
        "        L.append([])\n",
        "        c1=c1+1"
      ]
    },
    {
      "cell_type": "code",
      "execution_count": null,
      "metadata": {
        "colab": {
          "base_uri": "https://localhost:8080/"
        },
        "id": "Y5Zj6BotSKPH",
        "outputId": "317eba1f-78ba-48c6-d6b3-90f4fe6581eb"
      },
      "outputs": [
        {
          "output_type": "stream",
          "name": "stdout",
          "text": [
            "['12', '13', '38'] 3306\n",
            "['12', '38', '40'] 3645\n"
          ]
        }
      ],
      "source": [
        "for i in range(len(L[c1-1])):\n",
        "    print(L[c1-1][i].item,len(L[c1-1][i].trasactionset))\n"
      ]
    }
  ],
  "metadata": {
    "colab": {
      "provenance": [],
      "toc_visible": true
    },
    "kernelspec": {
      "display_name": "Python 3",
      "name": "python3"
    },
    "language_info": {
      "name": "python"
    }
  },
  "nbformat": 4,
  "nbformat_minor": 0
}