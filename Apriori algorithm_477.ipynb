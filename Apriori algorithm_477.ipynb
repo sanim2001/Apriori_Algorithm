{
  "cells": [
    {
      "cell_type": "code",
      "execution_count": 51,
      "metadata": {
        "id": "KDPw9YJT1Kyy",
        "colab": {
          "base_uri": "https://localhost:8080/"
        },
        "outputId": "746aafb4-d4e4-4816-8ecb-a97529207399"
      },
      "outputs": [
        {
          "output_type": "stream",
          "name": "stdout",
          "text": [
            "Drive already mounted at /content/drive; to attempt to forcibly remount, call drive.mount(\"/content/drive\", force_remount=True).\n"
          ]
        }
      ],
      "source": [
        "from google.colab import drive\n",
        "drive.mount('/content/drive')"
      ]
    },
    {
      "cell_type": "code",
      "execution_count": 52,
      "metadata": {
        "colab": {
          "base_uri": "https://localhost:8080/"
        },
        "id": "STiyNur21ZLI",
        "outputId": "0347287f-b6f0-463a-bcb8-e397b9457a42"
      },
      "outputs": [
        {
          "output_type": "stream",
          "name": "stdout",
          "text": [
            "/content/drive/My Drive/python\n"
          ]
        }
      ],
      "source": [
        "%cd /content/drive/My Drive/python"
      ]
    },
    {
      "cell_type": "code",
      "execution_count": 53,
      "metadata": {
        "id": "P1eoMo9Y1cd_"
      },
      "outputs": [],
      "source": [
        "f = open(\"chess.txt\", \"r\")"
      ]
    },
    {
      "cell_type": "code",
      "execution_count": 54,
      "metadata": {
        "id": "0OCDng6n10-5"
      },
      "outputs": [],
      "source": [
        "from os import truncate\n",
        "import itertools\n",
        "import time\n",
        "start = time.time()\n",
        "class pattern:\n",
        "  def __init__(self,iset,s):\n",
        "    self.item = iset.copy()\n",
        "    self.support = s\n",
        "\n",
        "C = [[],[]]\n",
        "L = [[],[]]\n",
        "n=0\n",
        "while True:\n",
        "    line= f.readline()\n",
        "\n",
        "    if not line:\n",
        "        break\n",
        "    n+=1\n",
        "    token=line.split()\n",
        "   # print(token)\n",
        "    token.sort()\n",
        "\n",
        "    p=[]\n",
        "    for i in token:\n",
        "        p.append(i)\n",
        "        temp=pattern(p,1)\n",
        "\n",
        "        p.clear()\n",
        "        flag=False\n",
        "\n",
        "        for j in range(0,len(C[0])):\n",
        "            if C[0][j].item==temp.item:\n",
        "                C[0][j].support+=1\n",
        "                flag=True\n",
        "                break\n",
        "        if flag==False:\n",
        "            C[0].append(temp)\n",
        "\n"
      ]
    },
    {
      "cell_type": "code",
      "execution_count": 55,
      "metadata": {
        "colab": {
          "base_uri": "https://localhost:8080/"
        },
        "id": "bWyb7l5e2SbY",
        "outputId": "3e89d7da-bff6-4ab9-b833-3dd2729f79fa"
      },
      "outputs": [
        {
          "output_type": "stream",
          "name": "stdout",
          "text": [
            "3196\n"
          ]
        }
      ],
      "source": [
        "print(n)\n",
        "t = 80/100\n",
        "t*=n\n",
        "\n",
        "for i in range(0,len(C[0])):\n",
        "    if C[0][i].support>=t:\n",
        "        L[0].append(C[0][i])\n",
        "\n",
        "\n",
        "#for i in range(0,len(L[0])):\n",
        "    #print(L[0][i].item,L[0][i].support)\n",
        "f.close()"
      ]
    },
    {
      "cell_type": "code",
      "execution_count": 56,
      "metadata": {
        "id": "xFCWKFGFSKN6"
      },
      "outputs": [],
      "source": [
        "transactions = []\n",
        "with open(\"chess.txt\", \"r\") as f:\n",
        "    for line in f:\n",
        "        transaction = line.split()\n",
        "        transactions.append(transaction)"
      ]
    },
    {
      "cell_type": "code",
      "execution_count": 57,
      "metadata": {
        "colab": {
          "base_uri": "https://localhost:8080/"
        },
        "id": "Y5Zj6BotSKPH",
        "outputId": "1d2ddfcb-beb1-4659-a584-637a0adeb218"
      },
      "outputs": [
        {
          "output_type": "stream",
          "name": "stdout",
          "text": [
            "19\n",
            "141\n",
            "566\n",
            "1383\n",
            "2130\n",
            "2104\n",
            "1314\n",
            "481\n",
            "85\n",
            "4\n"
          ]
        }
      ],
      "source": [
        "def sup_c(candidate):\n",
        "    count = 0\n",
        "    for transaction in transactions:\n",
        "        if set(candidate).issubset(transaction):\n",
        "            count += 1\n",
        "    return count\n",
        "print(len(L[0]))\n",
        "c1= 1\n",
        "while True:\n",
        "    for i in range(0, len(L[c1-1]) - 1):\n",
        "        p = []\n",
        "        for j in range(i + 1, len(L[c1-1])):\n",
        "            x = L[c1-1][i].item\n",
        "            y = L[c1-1][j].item\n",
        "            #print(x,y)\n",
        "            t1=0\n",
        "            for k in range(0,c1 - 1):\n",
        "                if x[k] == y[k]:\n",
        "                    p.append(x[k])\n",
        "                    t1+=1\n",
        "            if t1!=c1-1:\n",
        "                break\n",
        "            p.append(x[c1 - 1])\n",
        "            p.append(y[c1 - 1])\n",
        "            # print(p)\n",
        "            a = list(itertools.combinations(p, c1))\n",
        "            #print(a)\n",
        "            a1 = 0\n",
        "            for b in range(len(a)):\n",
        "                for c in range(len(L[c1-1])):\n",
        "                    if list(a[b]) == L[c1-1][c].item:\n",
        "                        a1 += 1\n",
        "                        break\n",
        "\n",
        "            if a1 == len(a):\n",
        "                temp = pattern(p, 0)\n",
        "                C[c1].append(temp)\n",
        "            p.clear()\n",
        "    for i in range(len(C[c1])):\n",
        "        C[c1][i].support = sup_c(C[c1][i].item)\n",
        "    if len(C[c1]) == 0:\n",
        "        break\n",
        "\n",
        "    for i in range(0, len(C[c1])):\n",
        "        if C[c1][i].support >= t:\n",
        "            L[c1].append(C[c1][i])\n",
        "    print(len(L[c1]))\n",
        "    if len(L[c1]) == 0:\n",
        "        break\n",
        "    else:\n",
        "        C.append([])\n",
        "        L.append([])\n",
        "        c1+=1"
      ]
    },
    {
      "cell_type": "code",
      "execution_count": 58,
      "metadata": {
        "colab": {
          "base_uri": "https://localhost:8080/"
        },
        "id": "AkSrBdHJQ5ye",
        "outputId": "f3144db3-6769-4c48-843f-f996d3902e4c"
      },
      "outputs": [
        {
          "output_type": "stream",
          "name": "stdout",
          "text": [
            "['29', '34', '36', '40', '48', '52', '58', '60', '62', '66'] 2567\n",
            "['29', '34', '36', '40', '48', '52', '58', '60', '66', '7'] 2570\n",
            "['29', '36', '40', '48', '52', '56', '58', '60', '62', '7'] 2562\n",
            "['29', '36', '40', '48', '52', '58', '60', '62', '66', '7'] 2573\n",
            "188.45015907287598\n"
          ]
        }
      ],
      "source": [
        "for i in range(len(L[c1-1])):\n",
        "    print(L[c1-1][i].item,L[c1-1][i].support)\n",
        "ed=time.time()\n",
        "ff=ed-start\n",
        "print(ff)\n",
        "f.close()"
      ]
    }
  ],
  "metadata": {
    "colab": {
      "provenance": [],
      "toc_visible": true
    },
    "kernelspec": {
      "display_name": "Python 3",
      "name": "python3"
    },
    "language_info": {
      "name": "python"
    }
  },
  "nbformat": 4,
  "nbformat_minor": 0
}